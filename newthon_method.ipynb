{
 "metadata": {
  "language_info": {
   "codemirror_mode": {
    "name": "ipython",
    "version": 3
   },
   "file_extension": ".py",
   "mimetype": "text/x-python",
   "name": "python",
   "nbconvert_exporter": "python",
   "pygments_lexer": "ipython3",
   "version": "3.8.5-final"
  },
  "orig_nbformat": 2,
  "kernelspec": {
   "name": "python385jvsc74a57bd0ba3c609f865d53e642a35d43df685a7e0cc860c91b384846371c5d1e44a3ac12",
   "display_name": "Python 3.8.5 64-bit (conda)"
  }
 },
 "nbformat": 4,
 "nbformat_minor": 2,
 "cells": [
  {
   "cell_type": "code",
   "execution_count": 55,
   "metadata": {},
   "outputs": [],
   "source": [
    "import numpy as np\n",
    "from numpy import linalg\n",
    "from sympy import *"
   ]
  },
  {
   "cell_type": "code",
   "execution_count": 56,
   "metadata": {},
   "outputs": [],
   "source": [
    "# Rossenbrock function\n",
    "# f1(x) = 10*(x2 - x1^2)\n",
    "# f2(x) = 1 - x1\n",
    "# x0 = (-1.2, 1)\n",
    "# f = 0 at (1, 1)\n",
    "# n = 2, m = 2 13"
   ]
  },
  {
   "cell_type": "code",
   "execution_count": 57,
   "metadata": {},
   "outputs": [],
   "source": [
    "# Freudenstein and Roth function\n",
    "# f1(x) = -13 + x1 + ((5 - x2)*x2 - 2)*x2\n",
    "# f2(x) = -29 + x1 + ((x2 + 1)*x2 - 14)*x2\n",
    "# x0 = (0.5, -2)\n",
    "# f = 0 at (5, 4)"
   ]
  },
  {
   "cell_type": "code",
   "execution_count": 58,
   "metadata": {},
   "outputs": [],
   "source": [
    "# Powell badly scaled function\n",
    "# f1(x) = 10**4*x1*x2 - 1\n",
    "# f2(x) = exp(-x1) + exp(-x2) - 1.0001\n",
    "# x0 = (0, 1)\n",
    "# f = 0 at (1.098...10**-5, 9.106...)"
   ]
  },
  {
   "cell_type": "code",
   "execution_count": 59,
   "metadata": {},
   "outputs": [],
   "source": [
    "# Powell singular function\n",
    "# f1(x) = x1 + 10*x2\n",
    "# f2(x) = 5^(1/2)*(x3 - x4)\n",
    "# f3(x) = (x2 - 2*x3)^2\n",
    "# f4(x) = 10^(1/2)*(x1 - x4)^2\n",
    "# x0 = [3, -1, 0, 1]\n",
    "# f = 0"
   ]
  },
  {
   "cell_type": "code",
   "execution_count": 60,
   "metadata": {},
   "outputs": [],
   "source": [
    "x1 = symbols('x1')\n",
    "x2 = symbols('x2')\n",
    "x3 = symbols('x3')\n",
    "x4 = symbols('x4')\n",
    "\n",
    "# f1 = simplify(\"10*(x2 - x1^2)\")\n",
    "# f2 = sympify(\"1 - x1\")\n",
    "# x0 = np.array([-3, 2], dtype = 'float')\n",
    "\n",
    "# f1 = simplify(\"(10**4)*x1*x2 - 1\")\n",
    "# f2 = simplify(\"exp(-x1) + exp(-x2) - 1.0001\")\n",
    "# x0 = np.array([0, 1], dtype = 'float')\n",
    "\n",
    "# f1 = simplify(\"-13 + x1 + ((5 - x2)*x2 - 2)*x2\")\n",
    "# f2 = simplify(\"-29 + x1 + ((x2 + 1)*x2 - 14)*x2\")\n",
    "# x0 = np.array([0.5, -4], dtype = 'float')\n",
    "\n",
    "f1 = simplify('x1 + 10*x2')\n",
    "f2 = simplify('5^(1/2)*(x3 - x4)')\n",
    "f3 = simplify('(x2 - 2*x3)^2')\n",
    "f4 = simplify('10^(1/2)*(x1 - x4)^2')\n",
    "x0 = np.array([3, -1, 0, 1], dtype = 'float')\n",
    "\n",
    "# x = np.array([x1, x2])\n",
    "# F = np.array([f1, f2])\n",
    "\n",
    "x = np.array([x1, x2, x3, x4])\n",
    "F = np.array([f1, f2, f3, f4])"
   ]
  },
  {
   "cell_type": "code",
   "execution_count": 61,
   "metadata": {},
   "outputs": [],
   "source": [
    "# n = int(input(\"Enter n = \"))\n",
    "# x = np.array([symbols('x{0}'.format(i + 1)) for i in range(n)])\n",
    "\n",
    "# F = np.array([simplify(input(\"f{0} = \".format(i + 1))) for i in range(n)])\n",
    "# x0 = np.array([float(input(\"{0} Element of x0\".format(i + 1))) for i in range(n)], dtype = 'float')\n",
    "\n",
    "eps = 10 ** -7"
   ]
  },
  {
   "cell_type": "code",
   "execution_count": 62,
   "metadata": {},
   "outputs": [],
   "source": [
    "F_0 = lambda x0: np.array([F[i].subs(dict(zip(x, x0))) for i in range(len(F))], dtype = 'float')"
   ]
  },
  {
   "cell_type": "code",
   "execution_count": 63,
   "metadata": {},
   "outputs": [],
   "source": [
    "def F_Derivative(x0):\n",
    "    F_der = np.array([[diff(F[i], x[j]) for j in range(len(x))] for i in range(len(F))])\n",
    "    return np.array([[F_der[i][j].subs(dict(zip(x, x0))) for j in range(len(F_der[i]))] for i in range(len(F_der))], dtype = 'float')"
   ]
  },
  {
   "cell_type": "code",
   "execution_count": 64,
   "metadata": {},
   "outputs": [],
   "source": [
    "# test function for F(x, y)\n",
    "# A = np.array([simplify(\"x1**2 + 7*x1 + 2*x1*x2 - 3\"), simplify(\"x1 + x2**3\")])\n",
    "# A = np.array([simplify(\"-13 + x1 + ((5 - x2)*x2 - 2)*x2\"), simplify(\"-29 + x1 + ((x2 + 1)*x2 - 14)*x2\")])\n",
    "# A[0].subs({x1: 1.13975640, x2: 1.05684169})"
   ]
  },
  {
   "cell_type": "code",
   "execution_count": 65,
   "metadata": {},
   "outputs": [],
   "source": [
    "# Поділена різниця першого порядку\n",
    "def DividedDifferenceOfOperator(x1, x2):\n",
    "    assert(len(x1) == len(x2))\n",
    "    arr = []\n",
    "    for i in range(len(F)):\n",
    "        subarr = []\n",
    "        for j in range(len(x1)):\n",
    "            params1 = [*x1[0:j+1], *x2[j+1:len(x2)+1]]\n",
    "            params2 = [*x1[0:j], *x2[j:len(x2)+1]]\n",
    "            # print(\"x1[j] = {0}, x2[j] = {1}, x1[j] - x2[j] = {2}\".format(x1[j], x2[j], x1[j] - x2[j]))\n",
    "            # print((F[i].subs(dict(zip(x, params1))) - F[i].subs(dict(zip(x, params2)))))\n",
    "            result = (F[i].subs(dict(zip(x, params1))) - F[i].subs(dict(zip(x, params2)))) / (x1[j] - x2[j])\n",
    "            subarr.append(result)\n",
    "        \n",
    "        arr.append(subarr)\n",
    "    \n",
    "    return np.array(arr, dtype = 'float')\n"
   ]
  },
  {
   "cell_type": "code",
   "execution_count": 66,
   "metadata": {},
   "outputs": [],
   "source": [
    "def NewtonMethod(x0, x, F):\n",
    "    I = 0\n",
    "\n",
    "    x1 = x0 - np.dot(np.linalg.inv(F_Derivative(x0)), F_0(x0))\n",
    "    print(\"{0} Ітерація: Значення F = {1} у точці x = {2}\".format(I + 1, F_0(x1), x1))\n",
    "    I +=1\n",
    "    \n",
    "    while True:\n",
    "        x0 = x1\n",
    "        x1 = x0 - np.dot(np.linalg.inv(F_Derivative(x0)), F_0(x0))\n",
    "\n",
    "        if (max(np.abs(x1 - x0)) < eps):\n",
    "            break\n",
    "\n",
    "        print(\"{0} Ітерація: Значення F = {1} у точці x = {2}\".format(I + 1, F_0(x1), x1))\n",
    "        I += 1\n",
    "    \n",
    "    print('\\n\\nКількість ітерацій: {0}'.format(I))\n",
    "\n",
    "    return x0"
   ]
  },
  {
   "cell_type": "code",
   "execution_count": 67,
   "metadata": {},
   "outputs": [],
   "source": [
    "def PotraMethod(x0, x, F):\n",
    "    # element at -1\n",
    "    x_1 = x0 - 10 ** -4\n",
    "\n",
    "    #element at -2\n",
    "    x_2 = x0 - 2 * (10 ** -4)\n",
    "\n",
    "    I = 0\n",
    "\n",
    "    matrix = (DividedDifferenceOfOperator(x0, x_1) + DividedDifferenceOfOperator(x_2, x0)) - DividedDifferenceOfOperator(x_2, x_1)\n",
    "    x1 = x0 - np.dot(np.linalg.inv(matrix), F_0(x0))\n",
    "    print(\"{0} Ітерація: Значення F = {1} у точці x = {2}\".format(I + 1, F_0(x1), x1))\n",
    "    I += 1\n",
    "\n",
    "    while True:\n",
    "        x_2 = x_1\n",
    "        x_1 = x0\n",
    "        x0 = x1\n",
    "\n",
    "        matrix = (DividedDifferenceOfOperator(x0, x_1) + DividedDifferenceOfOperator(x_2, x0)) - DividedDifferenceOfOperator(x_2, x_1)\n",
    "        x1 = x0 - np.dot(np.linalg.inv(matrix), F_0(x0))\n",
    "\n",
    "        if (max(np.abs(x1 - x0)) < eps):\n",
    "            break\n",
    "        \n",
    "        print(\"{0} Ітерація: Значення F = {1} у точці x = {2}\".format(I + 1, F_0(x1), x1))\n",
    "        I += 1\n",
    "    \n",
    "    print('\\n\\nКількість ітерацій: {0}'.format(I))\n",
    "\n",
    "    return x0\n"
   ]
  },
  {
   "cell_type": "code",
   "execution_count": 68,
   "metadata": {},
   "outputs": [],
   "source": [
    "# Inverse operator methods\n",
    "def SequentialNewtonInverseOperatorMethod(x0, x, F):\n",
    "    number_of_iterations = 0\n",
    "    I = np.eye(len(F), dtype = 'float')\n",
    "    A_0 = np.linalg.inv(F_Derivative(x0))\n",
    "\n",
    "    x1 = x0 - np.dot(A_0, F_0(x0))\n",
    "    right_matrix = 2 * I - np.dot(F_Derivative(x1), A_0)\n",
    "    A_1 = np.dot(A_0, right_matrix)\n",
    "    print(\"{0} Ітерація: Значення F = {1} у точці x = {2}\".format(number_of_iterations + 1, F_0(x1), x1))\n",
    "\n",
    "    number_of_iterations += 1\n",
    "    \n",
    "    while True:\n",
    "        x0 = x1\n",
    "        A_0 = A_1\n",
    "\n",
    "        x1 = x0 - np.dot(A_0, F_0(x0))\n",
    "\n",
    "        if (max(np.abs(x1 - x0)) < eps):\n",
    "            break\n",
    "\n",
    "        right_matrix = 2 * I - np.dot(F_Derivative(x1), A_0)\n",
    "        A_1 = np.dot(A_0, right_matrix)\n",
    "        \n",
    "        print(\"{0} Ітерація: Значення F = {1} у точці x = {2}\".format(number_of_iterations + 1, F_0(x1), x1))\n",
    "        number_of_iterations += 1\n",
    "\n",
    "    print('\\n\\nКількість ітерацій: {0}'.format(number_of_iterations))\n",
    "\n",
    "    return x0\n",
    "    "
   ]
  },
  {
   "cell_type": "code",
   "execution_count": 69,
   "metadata": {},
   "outputs": [],
   "source": [
    "def ParallelNewtonInverseOperatorMethod(x0, x, F):\n",
    "    number_of_iterations = 0\n",
    "    I = np.eye(len(F), dtype = 'float')\n",
    "    A_0 = np.linalg.inv(F_Derivative(x0))\n",
    "\n",
    "    x1 = x0 - np.dot(A_0, F_0(x0))\n",
    "    right_matrix = 2 * I - np.dot(F_Derivative(x0), A_0)\n",
    "    A_1 = np.dot(A_0, right_matrix)\n",
    "    print(\"{0} Ітерація: Значення F = {1} у точці x = {2}\".format(number_of_iterations + 1, F_0(x1), x1))\n",
    "\n",
    "    number_of_iterations += 1\n",
    "    \n",
    "    while True:\n",
    "        x0 = x1\n",
    "        A_0 = A_1\n",
    "\n",
    "        x1 = x0 - np.dot(A_0, F_0(x0))\n",
    "\n",
    "        if (max(np.abs(x1 - x0)) < eps):\n",
    "            break\n",
    "\n",
    "        right_matrix = 2 * I - np.dot(F_Derivative(x0), A_0)\n",
    "        A_1 = np.dot(A_0, right_matrix)\n",
    "        \n",
    "        print(\"{0} Ітерація: Значення F = {1} у точці x = {2}\".format(number_of_iterations + 1, F_0(x1), x1))\n",
    "        number_of_iterations += 1\n",
    "\n",
    "    print('\\n\\nКількість ітерацій: {0}'.format(number_of_iterations))\n",
    "\n",
    "    return x0"
   ]
  },
  {
   "cell_type": "code",
   "execution_count": 70,
   "metadata": {},
   "outputs": [],
   "source": [
    "def SequentialPotraInverseOperatorMethod(x0, x, F):\n",
    "    # element at -1\n",
    "    x_1 = x0 - 10 ** -4\n",
    "\n",
    "    #element at -2\n",
    "    x_2 = x0 - 2 * (10 ** -4)\n",
    "\n",
    "    number_of_iterations = 0\n",
    "    I = np.eye(len(F), dtype = 'float')\n",
    "    A_0 = np.linalg.inv((DividedDifferenceOfOperator(x0, x_1) + DividedDifferenceOfOperator(x_2, x0)) - DividedDifferenceOfOperator(x_2, x_1))\n",
    "\n",
    "    x1 = x0 - np.dot(A_0, F_0(x0))\n",
    "    matrix = (DividedDifferenceOfOperator(x1, x0) + DividedDifferenceOfOperator(x_1, x1)) - DividedDifferenceOfOperator(x_1, x0)\n",
    "    \n",
    "    \n",
    "    right_matrix = 2 * I - np.dot(matrix, A_0)\n",
    "    A_1 = np.dot(A_0, right_matrix)\n",
    "    print(\"{0} Ітерація: Значення F = {1} у точці x = {2}\".format(number_of_iterations + 1, F_0(x1), x1))\n",
    "    number_of_iterations +=1\n",
    "    \n",
    "    while True:\n",
    "        x_2 = x_1\n",
    "        x_1 = x0\n",
    "        x0 = x1\n",
    "        A_0 = A_1\n",
    "\n",
    "        x1 = x0 - np.dot(A_0, F_0(x0))\n",
    "\n",
    "        if (max(np.abs(x1 - x0)) < eps):\n",
    "            break\n",
    "\n",
    "        matrix = (DividedDifferenceOfOperator(x1, x0) + DividedDifferenceOfOperator(x_1, x1)) - DividedDifferenceOfOperator(x_1, x0)\n",
    "        # right_matrix = 2 * I - np.dot(F_Derivative(x1), A_0)\n",
    "        right_matrix = 2 * I - np.dot(matrix, A_0)\n",
    "        A_1 = np.dot(A_0, right_matrix)\n",
    "        print(\"{0} Ітерація: Значення F = {1} у точці x = {2}\".format(number_of_iterations + 1, F_0(x1), x1))\n",
    "        number_of_iterations += 1\n",
    "    \n",
    "    print('\\n\\nКількість ітерацій: {0}'.format(number_of_iterations))\n",
    "\n",
    "    return x0\n"
   ]
  },
  {
   "cell_type": "code",
   "execution_count": 71,
   "metadata": {},
   "outputs": [],
   "source": [
    "def ParallelPotraInverseOperatorMethod(x0, x, F):\n",
    "    # element at -1\n",
    "    x_1 = x0 - 10 ** -4\n",
    "\n",
    "    #element at -2\n",
    "    x_2 = x0 - 2 * (10 ** -4)\n",
    "\n",
    "    number_of_iterations = 0\n",
    "    I = np.eye(len(F), dtype = 'float')\n",
    "    A_0 = np.linalg.inv((DividedDifferenceOfOperator(x0, x_1) + DividedDifferenceOfOperator(x_2, x0)) - DividedDifferenceOfOperator(x_2, x_1))\n",
    "\n",
    "    x1 = x0 - np.dot(A_0, F_0(x0))\n",
    "    # matrix = (F_1(x1, x0) + F_1(x_1, x1)) - F_1(x_1, x0)\n",
    "    matrix = (DividedDifferenceOfOperator(x0, x_1) + DividedDifferenceOfOperator(x_2, x0)) - DividedDifferenceOfOperator(x_2, x_1)\n",
    "    # right_matrix = 2 * I - np.dot(F_Derivative(x1), A_0)\n",
    "    right_matrix = 2 * I - np.dot(matrix, A_0)\n",
    "    A_1 = np.dot(A_0, right_matrix)\n",
    "    print(\"{0} Ітерація: Значення F = {1} у точці x = {2}\".format(number_of_iterations + 1, F_0(x1), x1))\n",
    "    number_of_iterations +=1\n",
    "    \n",
    "    while True:\n",
    "        x_2 = x_1\n",
    "        x_1 = x0\n",
    "        x0 = x1\n",
    "        A_0 = A_1\n",
    "\n",
    "        x1 = x0 - np.dot(A_0, F_0(x0))\n",
    "\n",
    "        if (max(np.abs(x1 - x0)) < eps):\n",
    "            break\n",
    "\n",
    "        # matrix = (F_1(x1, x0) + F_1(x_1, x1)) - F_1(x_1, x0)\n",
    "        matrix = (DividedDifferenceOfOperator(x0, x_1) + DividedDifferenceOfOperator(x_2, x0)) - DividedDifferenceOfOperator(x_2, x_1)\n",
    "        # right_matrix = 2 * I - np.dot(F_Derivative(x1), A_0)\n",
    "        right_matrix = 2 * I - np.dot(matrix, A_0)\n",
    "        A_1 = np.dot(A_0, right_matrix)\n",
    "        print(\"{0} Ітерація: Значення F = {1} у точці x = {2}\".format(number_of_iterations + 1, F_0(x1), x1))\n",
    "        number_of_iterations += 1\n",
    "    \n",
    "    print('\\n\\nКількість ітерацій: {0}'.format(number_of_iterations))\n",
    "\n",
    "    return x0"
   ]
  },
  {
   "cell_type": "code",
   "execution_count": 72,
   "metadata": {},
   "outputs": [],
   "source": [
    "def GaussNewtonLeastSquaresMethod(x0, x, F):\n",
    "    I = 0\n",
    "\n",
    "    operatorsMultiplication = np.dot(F_Derivative(x0).transpose(), F_Derivative(x0))\n",
    "\n",
    "    multiplicationOfOperatorAndFunction = np.dot(F_Derivative(x0).transpose(), F_0(x0))\n",
    "\n",
    "    x1 = x0 - np.dot(np.linalg.inv(operatorsMultiplication), multiplicationOfOperatorAndFunction)\n",
    "    \n",
    "    print(\"{0} Ітерація: Значення F = {1} у точці x = {2}\".format(I + 1, F_0(x1), x1))\n",
    "    I +=1\n",
    "    \n",
    "    while True:\n",
    "        x0 = x1\n",
    "\n",
    "        operatorsMultiplication = np.dot(F_Derivative(x0).transpose(), F_Derivative(x0))\n",
    "        multiplicationOfOperatorAndFunction = np.dot(F_Derivative(x0).transpose(), F_0(x0))\n",
    "\n",
    "        x1 = x0 - np.dot(np.linalg.inv(operatorsMultiplication), multiplicationOfOperatorAndFunction)\n",
    "\n",
    "        if (max(np.abs(x1 - x0)) < eps):\n",
    "            break\n",
    "\n",
    "        print(\"{0} Ітерація: Значення F = {1} у точці x = {2}\".format(I + 1, F_0(x1), x1))\n",
    "        I += 1\n",
    "    \n",
    "    print('\\n\\nКількість ітерацій: {0}'.format(I))\n",
    "\n",
    "    return x0"
   ]
  },
  {
   "cell_type": "code",
   "execution_count": 73,
   "metadata": {},
   "outputs": [],
   "source": [
    "def PotraLeastSquaresMethod(x0, x, F):\n",
    "    # element at -1\n",
    "    x_1 = x0 - 10 ** -4\n",
    "\n",
    "    #element at -2\n",
    "    x_2 = x0 - 2 * (10 ** -4)\n",
    "    \n",
    "    I = 0\n",
    "\n",
    "    A  = (DividedDifferenceOfOperator(x0, x_1) + DividedDifferenceOfOperator(x_2, x0)) - DividedDifferenceOfOperator(x_2, x_1)\n",
    "    operatorsMultiplication = np.dot(A.transpose(), A)\n",
    "    multiplicationOfOperatorAndFunction = np.dot(A.transpose(), F_0(x0))\n",
    "\n",
    "    x1 = x0 - np.dot(np.linalg.inv(operatorsMultiplication), multiplicationOfOperatorAndFunction)\n",
    "    print(\"{0} Ітерація: Значення F = {1} у точці x = {2}\".format(I + 1, F_0(x1), x1))\n",
    "    I += 1\n",
    "\n",
    "    while True:\n",
    "        x_2 = x_1\n",
    "        x_1 = x0\n",
    "        x0 = x1\n",
    "\n",
    "        A  = (DividedDifferenceOfOperator(x0, x_1) + DividedDifferenceOfOperator(x_2, x0)) - DividedDifferenceOfOperator(x_2, x_1)\n",
    "        operatorsMultiplication = np.dot(A.transpose(), A)\n",
    "        multiplicationOfOperatorAndFunction = np.dot(A.transpose(), F_0(x0))\n",
    "\n",
    "        x1 = x0 - np.dot(np.linalg.inv(operatorsMultiplication), multiplicationOfOperatorAndFunction)\n",
    "\n",
    "        if (max(np.abs(x1 - x0)) < eps):\n",
    "            break\n",
    "        \n",
    "        print(\"{0} Ітерація: Значення F = {1} у точці x = {2}\".format(I + 1, F_0(x1), x1))\n",
    "        I += 1\n",
    "    \n",
    "    print('\\n\\nКількість ітерацій: {0}'.format(I))\n",
    "\n",
    "    return x0\n"
   ]
  },
  {
   "cell_type": "code",
   "execution_count": 74,
   "metadata": {},
   "outputs": [
    {
     "output_type": "stream",
     "name": "stdout",
     "text": [
      "Метод Гаусса - Ньютона (найменших квадратів)\n",
      "\n",
      "\n",
      "1 Ітерація: Значення F = [ 6.21724894e-15 -1.19161639e-14  2.50000000e-01  3.16227766e+00] у точці x = [ 1.19047619 -0.11904762  0.19047619  0.19047619]\n",
      "2 Ітерація: Значення F = [1.77635684e-15 1.98602732e-15 6.25000000e-02 7.90569415e-01] у точці x = [ 0.5952381  -0.05952381  0.0952381   0.0952381 ]\n",
      "3 Ітерація: Значення F = [3.33066907e-16 9.93013661e-16 1.56250000e-02 1.97642354e-01] у точці x = [ 0.29761905 -0.0297619   0.04761905  0.04761905]\n",
      "4 Ітерація: Значення F = [ 5.55111512e-17 -9.93013661e-16  3.90625000e-03  4.94105884e-02] у точці x = [ 0.14880952 -0.01488095  0.02380952  0.02380952]\n",
      "5 Ітерація: Значення F = [2.22044605e-16 0.00000000e+00 9.76562500e-04 1.23526471e-02] у точці x = [ 0.07440476 -0.00744048  0.01190476  0.01190476]\n",
      "6 Ітерація: Значення F = [0.         0.         0.00024414 0.00308816] у точці x = [ 0.03720238 -0.00372024  0.00595238  0.00595238]\n",
      "7 Ітерація: Значення F = [-3.12250226e-17  0.00000000e+00  6.10351562e-05  7.72040444e-04] у точці x = [ 0.01860119 -0.00186012  0.00297619  0.00297619]\n",
      "8 Ітерація: Значення F = [-6.93889390e-18  0.00000000e+00  1.52587891e-05  1.93010111e-04] у точці x = [ 0.0093006  -0.00093006  0.0014881   0.0014881 ]\n",
      "9 Ітерація: Значення F = [-1.04083409e-17  1.55158385e-17  3.81469727e-06  4.82525278e-05] у точці x = [ 0.0046503  -0.00046503  0.00074405  0.00074405]\n",
      "10 Ітерація: Значення F = [-3.46944695e-18  0.00000000e+00  9.53674316e-07  1.20631319e-05] у точці x = [ 0.00232515 -0.00023251  0.00037202  0.00037202]\n",
      "11 Ітерація: Значення F = [-1.08420217e-18 -3.87895961e-18  2.38418579e-07  3.01578299e-06] у точці x = [ 0.00116257 -0.00011626  0.00018601  0.00018601]\n",
      "12 Ітерація: Значення F = [ 4.33680869e-19 -1.93947981e-18  5.96046448e-08  7.53945746e-07] у точці x = [ 5.81287202e-04 -5.81287202e-05  9.30059524e-05  9.30059524e-05]\n",
      "13 Ітерація: Значення F = [5.42101086e-20 9.69739904e-19 1.49011612e-08 1.88486437e-07] у точці x = [ 2.90643601e-04 -2.90643601e-05  4.65029762e-05  4.65029762e-05]\n",
      "14 Ітерація: Значення F = [-1.89735380e-19  4.84869952e-19  3.72529031e-09  4.71216092e-08] у точці x = [ 1.45321801e-04 -1.45321801e-05  2.32514882e-05  2.32514882e-05]\n",
      "15 Ітерація: Значення F = [1.49077799e-19 0.00000000e+00 9.31322587e-10 1.17804023e-08] у точці x = [ 7.26609004e-05 -7.26609004e-06  1.16257441e-05  1.16257441e-05]\n",
      "16 Ітерація: Значення F = [-4.06575815e-20  1.21217488e-19  2.32830650e-10  2.94510057e-09] у точці x = [ 3.63304503e-05 -3.63304503e-06  5.81287213e-06  5.81287213e-06]\n",
      "17 Ітерація: Значення F = [2.03287907e-20 0.00000000e+00 5.82076709e-11 7.36275145e-10] у точці x = [ 1.81652254e-05 -1.81652254e-06  2.90643632e-06  2.90643632e-06]\n",
      "18 Ітерація: Значення F = [-5.08219768e-21  0.00000000e+00  1.45519357e-11  1.84068787e-10] у точці x = [ 9.08261385e-06 -9.08261385e-07  1.45321929e-06  1.45321929e-06]\n",
      "19 Ітерація: Значення F = [8.47032947e-22 0.00000000e+00 3.63796663e-12 4.60171987e-11] у точці x = [ 4.54130484e-06 -4.54130484e-07  7.26607479e-07  7.26607479e-07]\n",
      "20 Ітерація: Значення F = [-3.38813179e-21  0.00000000e+00  9.09517285e-13  1.15043006e-11] у точці x = [ 2.27065889e-06 -2.27065889e-07  3.63310134e-07  3.63310134e-07]\n",
      "21 Ітерація: Значення F = [1.27054942e-21 0.00000000e+00 2.27372702e-13 2.87607695e-12] у точці x = [ 1.13532642e-06 -1.13532642e-07  1.81651748e-07  1.81651748e-07]\n",
      "22 Ітерація: Значення F = [-7.41153829e-22 -1.89402325e-21  5.68527236e-14  7.19020407e-13] у точці x = [ 5.67673116e-07 -5.67673116e-08  9.08353900e-08  9.08353900e-08]\n",
      "23 Ітерація: Значення F = [2.11758237e-22 0.00000000e+00 1.42199427e-14 1.79756570e-13] у точці x = [ 2.83850988e-07 -2.83850988e-08  4.54311512e-08  4.54311512e-08]\n",
      "24 Ітерація: Значення F = [-3.17637355e-22  4.73505812e-22  3.56675359e-15  4.49404224e-14] у точці x = [ 1.41974065e-07 -1.41974065e-08  2.27624488e-08  2.27624488e-08]\n",
      "\n",
      "\n",
      "Кількість ітерацій: 24\n",
      "[ 1.41974065e-07 -1.41974065e-08  2.27624488e-08  2.27624488e-08]\n"
     ]
    }
   ],
   "source": [
    "print(\"Метод Гаусса - Ньютона (найменших квадратів)\\n\\n\")\n",
    "a = GaussNewtonLeastSquaresMethod(x0, x, F)\n",
    "print(a)"
   ]
  },
  {
   "cell_type": "code",
   "execution_count": 75,
   "metadata": {},
   "outputs": [
    {
     "output_type": "stream",
     "name": "stdout",
     "text": [
      "Метод Потра (найменших квадратів)\n",
      "\n",
      "\n",
      "1 Ітерація: Значення F = [-8.14903700e-12  4.96506831e-14  2.50000000e-01  3.16227766e+00] у точці x = [ 1.19047619 -0.11904762  0.19047619  0.19047619]\n",
      "2 Ітерація: Значення F = [2.37898590e-12 1.98602732e-14 6.25000000e-02 7.90569415e-01] у точці x = [ 0.5952381  -0.05952381  0.0952381   0.0952381 ]\n",
      "3 Ітерація: Значення F = [1.11022302e-16 9.93013661e-16 1.56250000e-02 1.97642354e-01] у точці x = [ 0.29761905 -0.0297619   0.04761905  0.04761905]\n",
      "4 Ітерація: Значення F = [8.32667268e-17 0.00000000e+00 3.90625000e-03 4.94105884e-02] у точці x = [ 0.14880952 -0.01488095  0.02380952  0.02380952]\n",
      "5 Ітерація: Значення F = [ 9.71445147e-17 -2.48253415e-16  9.76562500e-04  1.23526471e-02] у точці x = [ 0.07440476 -0.00744048  0.01190476  0.01190476]\n",
      "6 Ітерація: Значення F = [-6.24500451e-17 -1.24126708e-16  2.44140625e-04  3.08816178e-03] у точці x = [ 0.03720238 -0.00372024  0.00595238  0.00595238]\n",
      "7 Ітерація: Значення F = [-2.08166817e-17  0.00000000e+00  6.10351563e-05  7.72040444e-04] у точці x = [ 0.01860119 -0.00186012  0.00297619  0.00297619]\n",
      "8 Ітерація: Значення F = [ 5.20417043e-18 -3.10316769e-17  1.52587891e-05  1.93010111e-04] у точці x = [ 0.0093006  -0.00093006  0.0014881   0.0014881 ]\n",
      "9 Ітерація: Значення F = [4.33680869e-18 0.00000000e+00 3.81469727e-06 4.82525278e-05] у точці x = [ 0.0046503  -0.00046503  0.00074405  0.00074405]\n",
      "10 Ітерація: Значення F = [ 8.67361738e-19 -1.55158385e-17  9.53674316e-07  1.20631319e-05] у точці x = [ 0.00232515 -0.00023251  0.00037202  0.00037202]\n",
      "11 Ітерація: Значення F = [-1.08420217e-18  0.00000000e+00  2.38418579e-07  3.01578299e-06] у точці x = [ 0.00116257 -0.00011626  0.00018601  0.00018601]\n",
      "12 Ітерація: Значення F = [-2.16840434e-19  3.87895961e-18  5.96046448e-08  7.53945746e-07] у точці x = [ 5.81287202e-04 -5.81287202e-05  9.30059524e-05  9.30059524e-05]\n",
      "13 Ітерація: Значення F = [-1.62630326e-19 -1.93947981e-18  1.49011612e-08  1.88486437e-07] у точці x = [ 2.90643601e-04 -2.90643601e-05  4.65029762e-05  4.65029762e-05]\n",
      "14 Ітерація: Значення F = [1.35525272e-19 0.00000000e+00 3.72529030e-09 4.71216092e-08] у точці x = [ 1.45321801e-04 -1.45321801e-05  2.32514881e-05  2.32514881e-05]\n",
      "15 Ітерація: Значення F = [5.42101086e-20 4.84869952e-19 9.31322588e-10 1.17804023e-08] у точці x = [ 7.26609004e-05 -7.26609004e-06  1.16257442e-05  1.16257442e-05]\n",
      "16 Ітерація: Значення F = [ 2.71050543e-20 -1.21217488e-19  2.32830650e-10  2.94510057e-09] у точці x = [ 3.63304503e-05 -3.63304503e-06  5.81287213e-06  5.81287213e-06]\n",
      "17 Ітерація: Значення F = [3.04931861e-20 0.00000000e+00 5.82076708e-11 7.36275145e-10] у точці x = [ 1.81652254e-05 -1.81652254e-06  2.90643632e-06  2.90643632e-06]\n",
      "18 Ітерація: Значення F = [1.01643954e-20 0.00000000e+00 1.45519358e-11 1.84068787e-10] у точці x = [ 9.08261385e-06 -9.08261385e-07  1.45321929e-06  1.45321929e-06]\n",
      "19 Ітерація: Значення F = [-8.47032947e-21  1.51521860e-20  3.63796662e-12  4.60171987e-11] у точці x = [ 4.54130484e-06 -4.54130484e-07  7.26607477e-07  7.26607477e-07]\n",
      "20 Ітерація: Значення F = [ 1.27054942e-21 -1.51521860e-20  9.09517290e-13  1.15043006e-11] у точці x = [ 2.27065889e-06 -2.27065889e-07  3.63310135e-07  3.63310135e-07]\n",
      "21 Ітерація: Значення F = [ 2.11758237e-22 -3.78804650e-21  2.27372701e-13  2.87607695e-12] у точці x = [ 1.13532642e-06 -1.13532642e-07  1.81651747e-07  1.81651747e-07]\n",
      "22 Ітерація: Значення F = [6.35274710e-22 0.00000000e+00 5.68476892e-14 7.19020486e-13] у точці x = [ 5.67668114e-07 -5.67668114e-08  9.08303615e-08  9.08303615e-08]\n",
      "23 Ітерація: Значення F = [8.47032947e-22 0.00000000e+00 1.42206004e-14 1.79756522e-13] у точці x = [ 2.83852271e-07 -2.83852271e-08  4.54324659e-08  4.54324659e-08]\n",
      "24 Ітерація: Значення F = [-2.64697796e-23  0.00000000e+00  3.56672528e-15  4.49404409e-14] у точці x = [ 1.41973975e-07 -1.41973975e-08  2.27623347e-08  2.27623347e-08]\n",
      "\n",
      "\n",
      "Кількість ітерацій: 24\n",
      "[ 1.41973975e-07 -1.41973975e-08  2.27623347e-08  2.27623347e-08]\n"
     ]
    }
   ],
   "source": [
    "print(\"Метод Потра (найменших квадратів)\\n\\n\")\n",
    "a = PotraLeastSquaresMethod(x0, x, F)\n",
    "print(a)"
   ]
  },
  {
   "cell_type": "code",
   "execution_count": 76,
   "metadata": {
    "tags": []
   },
   "outputs": [],
   "source": [
    "# print(\"Метод Ньютона з послідовною апроксимацією оберненого оператора\\n\\n\")\n",
    "# a = SequentialNewtonInverseOperatorMethod(x0, x, F)\n",
    "# print(a)\n",
    "# print(\"Норма відхилу: {0}\".format(max(np.abs(a - x0))))"
   ]
  },
  {
   "cell_type": "code",
   "execution_count": 77,
   "metadata": {},
   "outputs": [],
   "source": [
    "# print(\"Метод Ньютона з паралельною апроксимацією оберненого оператора\\n\\n\")\n",
    "# a = ParallelNewtonInverseOperatorMethod(x0, x, F)\n",
    "# print(a)\n",
    "# print(\"Норма відхилу: {0}\".format(a - x0))"
   ]
  },
  {
   "cell_type": "code",
   "execution_count": 78,
   "metadata": {},
   "outputs": [],
   "source": [
    "# print(\"Метод Потра з послідовною апроксимацією оберненого оператора\\n\\n\")\n",
    "# a = SequentialPotraInverseOperatorMethod(x0, x, F)\n",
    "# print(a)\n",
    "# print(\"Норма відхилу: {0}\".format(max(np.abs(a - x0))))"
   ]
  },
  {
   "cell_type": "code",
   "execution_count": 79,
   "metadata": {},
   "outputs": [],
   "source": [
    "# print(\"Метод Потра з паралельною апроксимацією оберненого оператора\\n\\n\")\n",
    "# a = ParallelPotraInverseOperatorMethod(x0, x, F)\n",
    "# print(a)\n",
    "# print(\"Норма відхилу: {0}\".format(max(np.abs(a - x0))))"
   ]
  },
  {
   "cell_type": "code",
   "execution_count": 80,
   "metadata": {
    "tags": []
   },
   "outputs": [],
   "source": [
    "# print(\"Метод Ньютона\\n\\n\")\n",
    "# print(NewtonMethod(x0, x, F))"
   ]
  },
  {
   "cell_type": "code",
   "execution_count": 81,
   "metadata": {
    "tags": []
   },
   "outputs": [],
   "source": [
    "# print(\"Метод Потра\\n\\n\")\n",
    "# print(PotraMethod(x0, x, F))"
   ]
  }
 ]
}