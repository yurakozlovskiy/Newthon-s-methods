{
 "metadata": {
  "language_info": {
   "codemirror_mode": {
    "name": "ipython",
    "version": 3
   },
   "file_extension": ".py",
   "mimetype": "text/x-python",
   "name": "python",
   "nbconvert_exporter": "python",
   "pygments_lexer": "ipython3",
   "version": "3.8.5-final"
  },
  "orig_nbformat": 2,
  "kernelspec": {
   "name": "python385jvsc74a57bd0ba3c609f865d53e642a35d43df685a7e0cc860c91b384846371c5d1e44a3ac12",
   "display_name": "Python 3.8.5 64-bit (conda)"
  }
 },
 "nbformat": 4,
 "nbformat_minor": 2,
 "cells": [
  {
   "cell_type": "code",
   "execution_count": 507,
   "metadata": {},
   "outputs": [],
   "source": [
    "import numpy as np\n",
    "from numpy import linalg\n",
    "from sympy import *"
   ]
  },
  {
   "cell_type": "code",
   "execution_count": 508,
   "metadata": {},
   "outputs": [],
   "source": [
    "# n = 4\n",
    "n = 2\n",
    "m = 10\n",
    "# m = 20\n",
    "# m = 11 for kowalik-osborne function"
   ]
  },
  {
   "cell_type": "code",
   "execution_count": 509,
   "metadata": {},
   "outputs": [],
   "source": [
    "# x = np.array([symbols('x{0}'.format(i + 1)) for i in range(n)])\n",
    "# u = np.array([symbols('u{0}'.format(i + 1)) for i in range(m)])\n",
    "# y = np.array([symbols('y{0}'.format(i + 1)) for i in range(m)])"
   ]
  },
  {
   "cell_type": "code",
   "execution_count": 510,
   "metadata": {},
   "outputs": [],
   "source": [
    "# def create_kowalik_osborne_function(x, u, y):\n",
    "#     return np.array([simplify('{y_i} - ({x1}*({u_i}*{u_i} + {u_i}*{x2})) / ({u_i}*{u_i} + {u_i}*{x3} + {x4})'.format())])"
   ]
  },
  {
   "cell_type": "code",
   "execution_count": 511,
   "metadata": {},
   "outputs": [],
   "source": [
    "# Brown - Dennis function\n",
    "def create_brown_denis_function(x, m):\n",
    "    arr = []\n",
    "    for i in range(m):\n",
    "        t = symbols('t{0}'.format(i + 1))\n",
    "        t_i = t.subs({t: (i + 1) / 5})\n",
    "        arr.append(simplify('({x_1} + {t_i}*{x_2} - exp({t_i}))^2 + ({x_3} + {x_4}*sin({t_i}) - cos({t_i}))^2'\n",
    "        .format(x_1 = x[0], x_2 = x[1], x_3 = x[2], x_4 = x[3], t_i = t_i)))\n",
    "    \n",
    "    return np.array(arr)"
   ]
  },
  {
   "cell_type": "code",
   "execution_count": 512,
   "metadata": {},
   "outputs": [],
   "source": [
    "# Jenrich - Sampson function\n",
    "def CreateJenrichSampsonFunction(x, m):\n",
    "    arr = []\n",
    "    for i in range(m):\n",
    "        # t = symbols('t{0}'.format(i + 1))\n",
    "        # t_i = t.subs({t: (i + 1) / 5})\n",
    "        arr.append(simplify('2 + 2*{i} - exp({i}*{x_1}) - exp({i}*{x_2})'.format(x_1 = x[0], x_2 = x[1], i = i + 1)))\n",
    "    \n",
    "    return np.array(arr)"
   ]
  },
  {
   "cell_type": "code",
   "execution_count": null,
   "metadata": {},
   "outputs": [],
   "source": []
  },
  {
   "cell_type": "code",
   "execution_count": 513,
   "metadata": {},
   "outputs": [
    {
     "output_type": "stream",
     "name": "stdout",
     "text": [
      "[-exp(x1) - exp(x2) + 4 -exp(2*x1) - exp(2*x2) + 6\n -exp(3*x1) - exp(3*x2) + 8 -exp(4*x1) - exp(4*x2) + 10\n -exp(5*x1) - exp(5*x2) + 12 -exp(6*x1) - exp(6*x2) + 14\n -exp(7*x1) - exp(7*x2) + 16 -exp(8*x1) - exp(8*x2) + 18\n -exp(9*x1) - exp(9*x2) + 20 -exp(10*x1) - exp(10*x2) + 22]\n"
     ]
    }
   ],
   "source": [
    "x = np.array([symbols('x{0}'.format(i + 1)) for i in range(n)])\n",
    "# F = create_brown_denis_function(x, m)\n",
    "# x0 = [25, 5, -5, -1]\n",
    "# f_exact = 85822.2\n",
    "F = CreateJenrichSampsonFunction(x, m)\n",
    "print(F)\n",
    "x0 = np.array([0.3, 0.4], dtype = 'float')\n",
    "f_exact = 124.362"
   ]
  },
  {
   "cell_type": "code",
   "execution_count": 514,
   "metadata": {},
   "outputs": [],
   "source": [
    "# x = np.array([symbols('x{0}'.format(i + 1)) for i in range(4)])\n",
    "# F = np.array([simplify('{x_1}*exp()')])"
   ]
  },
  {
   "cell_type": "code",
   "execution_count": 515,
   "metadata": {},
   "outputs": [],
   "source": [
    "F_0 = lambda x0: np.array([F[i].subs(dict(zip(x, x0))) for i in range(len(F))], dtype = 'float')"
   ]
  },
  {
   "cell_type": "code",
   "execution_count": 516,
   "metadata": {},
   "outputs": [],
   "source": [
    "def F_Derivative(x0):\n",
    "    F_der = np.array([[diff(F[i], x[j]) for j in range(len(x))] for i in range(len(F))])\n",
    "    return np.array([[F_der[i][j].subs(dict(zip(x, x0))) for j in range(len(F_der[i]))] for i in range(len(F_der))], dtype = 'float')"
   ]
  },
  {
   "cell_type": "code",
   "execution_count": 517,
   "metadata": {},
   "outputs": [],
   "source": [
    "def DividedDifferenceOfOperator(x1, x2):\n",
    "    arr = []\n",
    "    for i in range(len(F)):\n",
    "        subarr = []\n",
    "        for j in range(len(x1)):\n",
    "            params1 = [*x1[0:j+1], *x2[j+1:len(x2)+1]]\n",
    "            params2 = [*x1[0:j], *x2[j:len(x2)+1]]\n",
    "            result = (F[i].subs(dict(zip(x, params1))) - F[i].subs(dict(zip(x, params2)))) / (x1[j] - x2[j])\n",
    "            subarr.append(result)\n",
    "        \n",
    "        arr.append(subarr)\n",
    "    \n",
    "    return np.array(arr, dtype = 'float')"
   ]
  },
  {
   "cell_type": "code",
   "execution_count": 518,
   "metadata": {},
   "outputs": [],
   "source": [
    "eps = 10 ** -7"
   ]
  },
  {
   "cell_type": "code",
   "execution_count": 519,
   "metadata": {},
   "outputs": [],
   "source": [
    "def GaussNewtonLeastSquaresMethod(x0, x, F):\n",
    "    I = 0\n",
    "\n",
    "    operatorsMultiplication = np.dot(F_Derivative(x0).transpose(), F_Derivative(x0))\n",
    "    # print(operatorsMultiplication)\n",
    "\n",
    "    multiplicationOfOperatorAndFunction = np.dot(F_Derivative(x0).transpose(), F_0(x0))\n",
    "\n",
    "    x1 = x0 - np.dot(np.linalg.inv(operatorsMultiplication), multiplicationOfOperatorAndFunction)\n",
    "    \n",
    "    print(np.linalg.solve(operatorsMultiplication, multiplicationOfOperatorAndFunction))\n",
    "    print(\"{0} Ітерація: Значення F = {1} у точці x = {2}\".format(I + 1, F_0(x1), x1))\n",
    "    I +=1\n",
    "    \n",
    "    # while True:\n",
    "    while I < 12:\n",
    "        x0 = x1\n",
    "\n",
    "        operatorsMultiplication = np.dot(F_Derivative(x0).transpose(), F_Derivative(x0))\n",
    "        multiplicationOfOperatorAndFunction = np.dot(F_Derivative(x0).transpose(), F_0(x0))\n",
    "\n",
    "        x1 = x0 - np.dot(np.linalg.inv(operatorsMultiplication), multiplicationOfOperatorAndFunction)\n",
    "\n",
    "        if (max(multiplicationOfOperatorAndFunction) < eps):\n",
    "            break\n",
    "        \n",
    "        print(np.linalg.solve(operatorsMultiplication, multiplicationOfOperatorAndFunction))\n",
    "        print(\"{0} Ітерація: Значення F = {1} у точці x = {2}\\n\\n\".format(I + 1, F_0(x1), x1))\n",
    "        I += 1\n",
    "    \n",
    "    print('\\n\\nКількість ітерацій: {0}'.format(I))\n",
    "\n",
    "    return x0"
   ]
  },
  {
   "cell_type": "code",
   "execution_count": 520,
   "metadata": {},
   "outputs": [],
   "source": [
    "def PotraLeastSquaresMethod(x0, x, F):\n",
    "    # element at -1\n",
    "    x_1 = x0 - 10 ** -4\n",
    "\n",
    "    #element at -2\n",
    "    x_2 = x0 - 2 * (10 ** -4)\n",
    "    \n",
    "    I = 0\n",
    "\n",
    "    A  = (DividedDifferenceOfOperator(x0, x_1) + DividedDifferenceOfOperator(x_2, x0)) - DividedDifferenceOfOperator(x_2, x_1)\n",
    "    operatorsMultiplication = np.dot(A.transpose(), A)\n",
    "    multiplicationOfOperatorAndFunction = np.dot(A.transpose(), F_0(x0))\n",
    "\n",
    "    x1 = x0 - np.dot(np.linalg.inv(operatorsMultiplication), multiplicationOfOperatorAndFunction)\n",
    "    print(\"{0} Ітерація: Значення F = {1} у точці x = {2}\".format(I + 1, F_0(x1), x1))\n",
    "    I += 1\n",
    "\n",
    "    while True:\n",
    "        x_2 = x_1\n",
    "        x_1 = x0\n",
    "        x0 = x1\n",
    "\n",
    "        A  = (DividedDifferenceOfOperator(x0, x_1) + DividedDifferenceOfOperator(x_2, x0)) - DividedDifferenceOfOperator(x_2, x_1)\n",
    "        operatorsMultiplication = np.dot(A.transpose(), A)\n",
    "        multiplicationOfOperatorAndFunction = np.dot(A.transpose(), F_0(x0))\n",
    "\n",
    "        x1 = x0 - np.dot(np.linalg.inv(operatorsMultiplication), multiplicationOfOperatorAndFunction)\n",
    "\n",
    "        if (max(np.abs(x1 - x0)) < eps and max(multiplicationOfOperatorAndFunction) < eps):\n",
    "            break\n",
    "        \n",
    "        print(\"{0} Ітерація: Значення F = {1} у точці x = {2}\".format(I + 1, F_0(x1), x1))\n",
    "        I += 1\n",
    "    \n",
    "    print('\\n\\nКількість ітерацій: {0}'.format(I))\n",
    "\n",
    "    return x0"
   ]
  },
  {
   "cell_type": "code",
   "execution_count": 521,
   "metadata": {},
   "outputs": [],
   "source": [
    "# def LeastSquareMethod(x0):\n",
    "#     print('\\n\\n')\n",
    "#     print(np.linalg.norm(F_0(x0)))\n",
    "#     mult = F_0(x0) * F"
   ]
  },
  {
   "cell_type": "code",
   "execution_count": 522,
   "metadata": {
    "tags": []
   },
   "outputs": [
    {
     "output_type": "stream",
     "name": "stdout",
     "text": [
      "Метод Гаусса - Ньютона (найменших квадратів)\n",
      "\n",
      "\n",
      "[-0.21871557  0.17938005]\n",
      "1 Ітерація: Значення F = [   1.07328194    1.62340793    1.32108653   -0.38033522   -4.39104136\n",
      "  -12.22989556  -26.43576379  -51.25786524  -93.81470182 -166.03994824] у точці x = [0.51871557 0.22061995]\n",
      "[0.09054318 0.06485959]\n",
      "2 Ітерація: Значення F = [  1.29700329   2.27996135   2.79142709   2.59155767   1.31437333\n",
      "  -1.59931145  -7.0047437  -16.21099106 -31.22293581 -55.11251008] у точці x = [0.42817239 0.15576036]\n",
      "\n",
      "\n",
      "[ 0.10419929 -0.3983384 ]\n",
      "3 Ітерація: Значення F = [ 8.77018113e-01  1.05949536e+00  8.55861833e-02 -2.82845398e+00\n",
      " -9.01892674e+00 -2.07731881e+01 -4.20191263e+01 -7.95195013e+01\n",
      " -1.44942788e+02 -2.58456492e+02] у точці x = [0.32397309 0.55409876]\n",
      "\n",
      "\n",
      "[0.22535702 0.07945537]\n",
      "4 Ітерація: Значення F = [  1.28891664   2.19810711   2.5023219    1.84004664  -0.36921266\n",
      "  -5.05788255 -13.72402965 -28.77487528 -54.07896704 -95.85375289] у точці x = [0.09861607 0.47464339]\n",
      "\n",
      "\n",
      "[-0.37251596  0.09336421]\n",
      "5 Ітерація: Значення F = [   0.93403723    1.29046235    0.75132018   -1.17892721   -5.27388183\n",
      "  -12.74319609  -25.48129429  -46.45941893  -80.34430506 -134.47554834] у точці x = [0.47113203 0.38127918]\n",
      "\n",
      "\n",
      "[0.08362612 0.09428796]\n",
      "6 Ітерація: Значення F = [  1.19428582   2.0540591    2.43656247   2.13664625   0.85895831\n",
      "  -1.82245685  -6.52291896 -14.13266918 -25.94156915 -43.82101794] у точці x = [0.38750592 0.28699121]\n",
      "\n",
      "\n",
      "[ 0.19796515 -0.28494929]\n",
      "7 Ітерація: Значення F = [   1.0196039     1.40013092    0.67292521   -1.98721427   -8.03611223\n",
      "  -20.04557967  -42.56306209  -83.6343542  -157.50100255 -289.37882266] у точці x = [0.18954076 0.5719405 ]\n",
      "\n",
      "\n",
      "[0.30796174 0.0891232 ]\n",
      "8 Ітерація: Значення F = [   1.49104419    2.58443011    3.04249096    2.4790359     0.26728495\n",
      "   -4.60934764  -13.79909008  -29.97375186  -57.46392194 -103.28840038] у точці x = [-0.11842097  0.4828173 ]\n",
      "\n",
      "\n",
      "[-1.60125387  0.08766943]\n",
      "9 Ітерація: Значення F = [-1.89001178e+00 -1.56116685e+01 -8.07706252e+01 -3.71513554e+02\n",
      " -1.65453412e+03 -7.30669819e+03 -3.22033902e+04 -1.41875134e+05\n",
      " -6.25008232e+05 -2.75338009e+06] у точці x = [1.48283289 0.39514787]\n",
      "\n",
      "\n",
      "[9.60991864e-02 2.12575628e+02]\n",
      "10 Ітерація: Значення F = [-1.75777183e-03 -1.00140653e+01 -5.60844101e+01 -2.46450286e+02\n",
      " -1.01425193e+03 -4.09281162e+03 -1.64184653e+04 -6.57487493e+04\n",
      " -2.63162600e+05 -1.05317102e+06] у точці x = [   1.38673371 -212.18048027]\n",
      "\n",
      "\n",
      "[ 1.00595592e-01 -5.64600164e+91]\n",
      "11 Ітерація: Значення F = [-inf -inf -inf -inf -inf -inf -inf -inf -inf -inf] у точці x = [1.28613812e+00 5.64600164e+91]\n",
      "\n",
      "\n",
      "[nan nan]\n",
      "12 Ітерація: Значення F = [nan nan nan nan nan nan nan nan nan nan] у точці x = [nan nan]\n",
      "\n",
      "\n",
      "\n",
      "\n",
      "Кількість ітерацій: 12\n",
      "[1.28613812e+00 5.64600164e+91]\n"
     ]
    }
   ],
   "source": [
    "print(\"Метод Гаусса - Ньютона (найменших квадратів)\\n\\n\")\n",
    "approx_values = GaussNewtonLeastSquaresMethod(x0, x, F)\n",
    "print(approx_values)\n",
    "# print(np.linalg.norm(F_0(approx_values)))"
   ]
  }
 ]
}