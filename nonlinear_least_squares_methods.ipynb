{
 "metadata": {
  "language_info": {
   "codemirror_mode": {
    "name": "ipython",
    "version": 3
   },
   "file_extension": ".py",
   "mimetype": "text/x-python",
   "name": "python",
   "nbconvert_exporter": "python",
   "pygments_lexer": "ipython3",
   "version": "3.8.5"
  },
  "orig_nbformat": 2,
  "kernelspec": {
   "name": "python385jvsc74a57bd0ba3c609f865d53e642a35d43df685a7e0cc860c91b384846371c5d1e44a3ac12",
   "display_name": "Python 3.8.5 64-bit ('base': conda)"
  }
 },
 "nbformat": 4,
 "nbformat_minor": 2,
 "cells": [
  {
   "cell_type": "code",
   "execution_count": 21,
   "metadata": {},
   "outputs": [],
   "source": [
    "import numpy as np\n",
    "from numpy import linalg\n",
    "from sympy import *"
   ]
  },
  {
   "cell_type": "code",
   "execution_count": 22,
   "metadata": {},
   "outputs": [],
   "source": [
    "# n = 4\n",
    "n = 2\n",
    "m = 10\n",
    "# m = 20\n",
    "# m = 11 for kowalik-osborne function"
   ]
  },
  {
   "cell_type": "code",
   "execution_count": 23,
   "metadata": {},
   "outputs": [],
   "source": [
    "# x = np.array([symbols('x{0}'.format(i + 1)) for i in range(n)])\n",
    "# u = np.array([symbols('u{0}'.format(i + 1)) for i in range(m)])\n",
    "# y = np.array([symbols('y{0}'.format(i + 1)) for i in range(m)])"
   ]
  },
  {
   "cell_type": "code",
   "execution_count": 24,
   "metadata": {},
   "outputs": [],
   "source": [
    "# def create_kowalik_osborne_function(x, u, y):\n",
    "#     return np.array([simplify('{y_i} - ({x1}*({u_i}*{u_i} + {u_i}*{x2})) / ({u_i}*{u_i} + {u_i}*{x3} + {x4})'.format())])"
   ]
  },
  {
   "cell_type": "code",
   "execution_count": 25,
   "metadata": {},
   "outputs": [],
   "source": [
    "# Brown - Dennis function\n",
    "def create_brown_denis_function(x, m):\n",
    "    arr = []\n",
    "    for i in range(m):\n",
    "        t = symbols('t{0}'.format(i + 1))\n",
    "        t_i = t.subs({t: (i + 1) / 5})\n",
    "        arr.append(simplify('({x_1} + {t_i}*{x_2} - exp({t_i}))^2 + ({x_3} + {x_4}*sin({t_i}) - cos({t_i}))^2'\n",
    "        .format(x_1 = x[0], x_2 = x[1], x_3 = x[2], x_4 = x[3], t_i = t_i)))\n",
    "    \n",
    "    return np.array(arr)"
   ]
  },
  {
   "cell_type": "code",
   "execution_count": 26,
   "metadata": {},
   "outputs": [],
   "source": [
    "# Jenrich - Sampson function\n",
    "def CreateJenrichSampsonFunction(x, m):\n",
    "    arr = []\n",
    "    for i in range(m):\n",
    "        # t = symbols('t{0}'.format(i + 1))\n",
    "        # t_i = t.subs({t: (i + 1) / 5})\n",
    "        arr.append(simplify('2 + 2*{i} - exp({i}*{x_1}) - exp({i}*{x_2})'.format(x_1 = x[0], x_2 = x[1], i = i + 1)))\n",
    "    \n",
    "    return np.array(arr)"
   ]
  },
  {
   "cell_type": "code",
   "execution_count": 27,
   "metadata": {},
   "outputs": [],
   "source": [
    "def createFunctions(x, u, y, m):\n",
    "    arr = []\n",
    "    for i in range(m):\n",
    "        t_i = (u[i] - 425) / 195\n",
    "        arr.append(simplify('{x_1}*exp({t_i}*{x_3}) + {x_2}*exp({t_i}*{x_4}) - {y_i}'\n",
    "            .format(x_1= x[0], x_2 = x[1], x_3 = x[2], x_4 = x[3], t_i = t_i, y_i = y[i])))\n",
    "    \n",
    "    return np.array(arr)"
   ]
  },
  {
   "cell_type": "code",
   "execution_count": 29,
   "metadata": {},
   "outputs": [
    {
     "output_type": "stream",
     "name": "stdout",
     "text": [
      "[1.0*x1*exp(-1.0*x3) + 1.0*x2*exp(-1.0*x4) - 64.0\n 1.0*x1*exp(-0.6666666666666666*x3) + 1.0*x2*exp(-0.6666666666666666*x4) - 66.0\n 1.0*x1*exp(-0.3333333333333333*x3) + 1.0*x2*exp(-0.3333333333333333*x4) - 69.5\n x1 + x2 - 74.0\n x1*exp(0.3333333333333333*x3) + x2*exp(0.3333333333333333*x4) - 80.8\n x1*exp(0.6666666666666666*x3) + x2*exp(0.6666666666666666*x4) - 91.0\n x1*exp(1.0*x3) + x2*exp(1.0*x4) - 103.5]\n"
     ]
    }
   ],
   "source": [
    "x = np.array([symbols('x{0}'.format(i + 1)) for i in range(4)])\n",
    "u = np.array([230, 295, 360, 425, 490, 555, 620])\n",
    "y = np.array([64.0, 66.0, 69.5, 74.0, 80.8, 91.0, 103.5], dtype = 'float')\n",
    "F = createFunctions(x, u, y, 7)\n",
    "print(F)\n",
    "x0 = np.array([25, 45, 1, 0])"
   ]
  },
  {
   "cell_type": "code",
   "execution_count": 30,
   "metadata": {},
   "outputs": [],
   "source": [
    "F_0 = lambda x0: np.array([F[i].subs(dict(zip(x, x0))) for i in range(len(F))], dtype = 'float')"
   ]
  },
  {
   "cell_type": "code",
   "execution_count": 31,
   "metadata": {},
   "outputs": [],
   "source": [
    "def F_Derivative(x0):\n",
    "    F_der = np.array([[diff(F[i], x[j]) for j in range(len(x))] for i in range(len(F))])\n",
    "    return np.array([[F_der[i][j].subs(dict(zip(x, x0))) for j in range(len(F_der[i]))] for i in range(len(F_der))], dtype = 'float')"
   ]
  },
  {
   "cell_type": "code",
   "execution_count": 32,
   "metadata": {},
   "outputs": [],
   "source": [
    "def DividedDifferenceOfOperator(x1, x2):\n",
    "    arr = []\n",
    "    for i in range(len(F)):\n",
    "        subarr = []\n",
    "        for j in range(len(x1)):\n",
    "            params1 = [*x1[0:j+1], *x2[j+1:len(x2)+1]]\n",
    "            params2 = [*x1[0:j], *x2[j:len(x2)+1]]\n",
    "            result = (F[i].subs(dict(zip(x, params1))) - F[i].subs(dict(zip(x, params2)))) / (x1[j] - x2[j])\n",
    "            subarr.append(result)\n",
    "        \n",
    "        arr.append(subarr)\n",
    "    \n",
    "    return np.array(arr, dtype = 'float')"
   ]
  },
  {
   "cell_type": "code",
   "execution_count": 33,
   "metadata": {},
   "outputs": [],
   "source": [
    "eps = 10 ** -7"
   ]
  },
  {
   "cell_type": "code",
   "execution_count": 34,
   "metadata": {},
   "outputs": [],
   "source": [
    "def PotraLeastSquaresMethod(x0, x, F):\n",
    "    # element at -1\n",
    "    x_1 = x0 - 10 ** -4\n",
    "\n",
    "    #element at -2\n",
    "    x_2 = x0 - 2 * (10 ** -4)\n",
    "    \n",
    "    I = 0\n",
    "\n",
    "    A  = (DividedDifferenceOfOperator(x0, x_1) + DividedDifferenceOfOperator(x_2, x0)) - DividedDifferenceOfOperator(x_2, x_1)\n",
    "    operatorsMultiplication = np.dot(A.transpose(), A)\n",
    "    multiplicationOfOperatorAndFunction = np.dot(A.transpose(), F_0(x0))\n",
    "\n",
    "    x1 = x0 - np.dot(np.linalg.inv(operatorsMultiplication), multiplicationOfOperatorAndFunction)\n",
    "    print(\"{0} Ітерація: Значення F = {1} у точці x = {2}\".format(I + 1, F_0(x1), x1))\n",
    "    I += 1\n",
    "\n",
    "    while True:\n",
    "        x_2 = x_1\n",
    "        x_1 = x0\n",
    "        x0 = x1\n",
    "\n",
    "        A  = (DividedDifferenceOfOperator(x0, x_1) + DividedDifferenceOfOperator(x_2, x0)) - DividedDifferenceOfOperator(x_2, x_1)\n",
    "        operatorsMultiplication = np.dot(A.transpose(), A)\n",
    "        multiplicationOfOperatorAndFunction = np.dot(A.transpose(), F_0(x0))\n",
    "\n",
    "        x1 = x0 - np.dot(np.linalg.inv(operatorsMultiplication), multiplicationOfOperatorAndFunction)\n",
    "\n",
    "        if (max(np.abs(x1 - x0)) < eps and max(np.abs(multiplicationOfOperatorAndFunction)) < eps):\n",
    "            break\n",
    "        \n",
    "        print(\"{0} Ітерація: Значення F = {1} у точці x = {2}\".format(I + 1, F_0(x1), x1))\n",
    "        I += 1\n",
    "    \n",
    "    print('\\n\\nКількість ітерацій: {0}'.format(I))\n",
    "\n",
    "    return x0"
   ]
  },
  {
   "cell_type": "code",
   "execution_count": 35,
   "metadata": {},
   "outputs": [],
   "source": [
    "def GaussNewtonLeastSquaresMethod(x0, x, F):\n",
    "    I = 0\n",
    "\n",
    "    operatorsMultiplication = np.dot(F_Derivative(x0).transpose(), F_Derivative(x0))\n",
    "\n",
    "    multiplicationOfOperatorAndFunction = np.dot(F_Derivative(x0).transpose(), F_0(x0))\n",
    "\n",
    "    x1 = x0 - np.dot(np.linalg.inv(operatorsMultiplication), multiplicationOfOperatorAndFunction)\n",
    "    \n",
    "    print(\"{0} Ітерація: Значення F = {1} у точці x = {2}\".format(I + 1, F_0(x1), x1))\n",
    "    I +=1\n",
    "    \n",
    "    while True:\n",
    "        x0 = x1\n",
    "\n",
    "        operatorsMultiplication = np.dot(F_Derivative(x0).transpose(), F_Derivative(x0))\n",
    "        multiplicationOfOperatorAndFunction = np.dot(F_Derivative(x0).transpose(), F_0(x0))\n",
    "\n",
    "        x1 = x0 - np.dot(np.linalg.inv(operatorsMultiplication), multiplicationOfOperatorAndFunction)\n",
    "\n",
    "        if (max(np.abs(x1 - x0)) < eps and max(np.abs(multiplicationOfOperatorAndFunction)) < eps):\n",
    "            break\n",
    "        \n",
    "        print(\"{0} Ітерація: Значення F = {1} у точці x = {2}\\n\\n\".format(I + 1, F_0(x1), x1))\n",
    "        I += 1\n",
    "    \n",
    "    print('\\n\\nКількість ітерацій: {0}'.format(I))\n",
    "\n",
    "    return x0"
   ]
  },
  {
   "cell_type": "code",
   "execution_count": 37,
   "metadata": {},
   "outputs": [],
   "source": [
    "def LeastSquareMethod(x0):\n",
    "    print('\\n\\n')\n",
    "    print('Norm: {0}'.format(max(F_0(x0))))\n",
    "    mult = [f * f for f in F_0(x0)]\n",
    "    return 0.5 * sum(mult)"
   ]
  },
  {
   "cell_type": "code",
   "execution_count": 38,
   "metadata": {},
   "outputs": [],
   "source": [
    "# approx_values = Example(x0, x, F)\n",
    "# print(approx_values)"
   ]
  },
  {
   "cell_type": "code",
   "execution_count": 39,
   "metadata": {
    "tags": []
   },
   "outputs": [
    {
     "output_type": "stream",
     "name": "stdout",
     "text": [
      "Метод Гаусса - Ньютона (найменших квадратів)\n",
      "\n",
      "\n",
      "1 Ітерація: Значення F = [ 1.1161869   0.68212736  0.06649451  0.12471195  0.02071833 -0.74056923\n",
      " -0.27104889] у точці x = [29.36803638 44.75667557  0.78705813 -0.14515267]\n",
      "2 Ітерація: Значення F = [ 0.08457395  0.0368298  -0.22411305  0.14034314  0.26767026 -0.37738342\n",
      "  0.03378816] у точці x = [30.6941881  43.44615504  0.75898878 -0.13479258]\n",
      "\n",
      "\n",
      "3 Ітерація: Значення F = [ 0.04321262  0.00822918 -0.23907539  0.14057643  0.28556592 -0.33813824\n",
      "  0.09971019] у точці x = [30.71494964 43.42562679  0.75932614 -0.13433485]\n",
      "\n",
      "\n",
      "4 Ітерація: Значення F = [ 0.04322974  0.00820126 -0.23910795  0.14056676  0.28558641 -0.33811142\n",
      "  0.09967287] у точці x = [30.71708794 43.42347882  0.75929681 -0.13435603]\n",
      "\n",
      "\n",
      "5 Ітерація: Значення F = [ 0.04322785  0.00820263 -0.23910602  0.14056734  0.28558501 -0.33811346\n",
      "  0.09967444] у точці x = [30.71694974 43.4236176   0.75929868 -0.13435464]\n",
      "\n",
      "\n",
      "6 Ітерація: Значення F = [ 0.04322797  0.00820254 -0.23910615  0.1405673   0.2855851  -0.33811333\n",
      "  0.09967434] у точці x = [30.71695866 43.42360864  0.75929856 -0.13435473]\n",
      "\n",
      "\n",
      "7 Ітерація: Значення F = [ 0.04322796  0.00820255 -0.23910614  0.1405673   0.2855851  -0.33811333\n",
      "  0.09967435] у точці x = [30.71695809 43.42360922  0.75929857 -0.13435472]\n",
      "\n",
      "\n",
      "\n",
      "\n",
      "Кількість ітерацій: 7\n",
      "\n",
      "\n",
      "\n",
      "Norm: 0.2855850970847138\n"
     ]
    },
    {
     "output_type": "execute_result",
     "data": {
      "text/plain": [
       "0.1423406509263546"
      ]
     },
     "metadata": {},
     "execution_count": 39
    }
   ],
   "source": [
    "print(\"Метод Гаусса - Ньютона (найменших квадратів)\\n\\n\")\n",
    "approx_values = GaussNewtonLeastSquaresMethod(x0, x, F)\n",
    "\n",
    "LeastSquareMethod(approx_values)"
   ]
  },
  {
   "cell_type": "code",
   "execution_count": 40,
   "metadata": {},
   "outputs": [
    {
     "output_type": "stream",
     "name": "stdout",
     "text": [
      "Метод Потра (найменших квадратів)\n",
      "\n",
      "\n",
      "1 Ітерація: Значення F = [ 1.11618698  0.68212741  0.06649453  0.12471195  0.02071829 -0.74056933\n",
      " -0.2710491 ] у точці x = [29.3680369  44.75667505  0.78705812 -0.14515268]\n",
      "2 Ітерація: Значення F = [ 0.08778746  0.03859556 -0.22364648  0.14066064  0.27048311 -0.36723813\n",
      "  0.05927695] у точці x = [30.62283094 43.5178297   0.76046707 -0.13430606]\n",
      "3 Ітерація: Значення F = [ 0.04314639  0.00840102 -0.23888953  0.1406203   0.28541932 -0.33835846\n",
      "  0.09978182] у точці x = [30.70329199 43.43732831  0.75948429 -0.13421967]\n",
      "4 Ітерація: Значення F = [ 0.04323958  0.00819416 -0.23911794  0.14056368  0.28559333 -0.33810171\n",
      "  0.09966262] у точці x = [30.71781223 43.42275145  0.75928698 -0.13436331]\n",
      "5 Ітерація: Значення F = [ 0.04322719  0.00820309 -0.23910537  0.14056754  0.28558453 -0.33811417\n",
      "  0.09967495] у точці x = [30.71690259 43.42366495  0.75929932 -0.13435416]\n",
      "6 Ітерація: Значення F = [ 0.04322801  0.00820251 -0.23910619  0.14056729  0.28558513 -0.33811328\n",
      "  0.09967431] у точці x = [30.71696171 43.42360558  0.75929852 -0.13435476]\n",
      "7 Ітерація: Значення F = [ 0.04322796  0.00820255 -0.23910614  0.1405673   0.2855851  -0.33811334\n",
      "  0.09967435] у точці x = [30.71695789 43.42360941  0.75929857 -0.13435472]\n",
      "8 Ітерація: Значення F = [ 0.04322796  0.00820254 -0.23910615  0.1405673   0.2855851  -0.33811333\n",
      "  0.09967435] у точці x = [30.71695842 43.42360888  0.75929857 -0.13435473]\n",
      "9 Ітерація: Значення F = [ 0.04322797  0.00820253 -0.23910615  0.1405673   0.28558511 -0.33811332\n",
      "  0.09967434] у точці x = [30.71695913 43.42360817  0.75929856 -0.13435473]\n",
      "10 Ітерація: Значення F = [ 0.04322796  0.00820255 -0.23910613  0.1405673   0.28558509 -0.33811334\n",
      "  0.09967436] у точці x = [30.7169575  43.4236098   0.75929858 -0.13435472]\n",
      "11 Ітерація: Значення F = [ 0.04322796  0.00820255 -0.23910614  0.1405673   0.2855851  -0.33811334\n",
      "  0.09967435] у точці x = [30.71695785 43.42360945  0.75929857 -0.13435472]\n",
      "12 Ітерація: Значення F = [ 0.04322802  0.00820251 -0.2391062   0.14056728  0.28558513 -0.33811328\n",
      "  0.09967431] у точці x = [30.71696211 43.42360517  0.75929852 -0.13435476]\n",
      "13 Ітерація: Значення F = [ 0.04322788  0.0082026  -0.23910606  0.14056733  0.28558504 -0.33811342\n",
      "  0.09967441] у точці x = [30.71695222 43.42361511  0.75929865 -0.13435466]\n",
      "14 Ітерація: Значення F = [ 0.04322797  0.00820254 -0.23910615  0.1405673   0.28558511 -0.33811332\n",
      "  0.09967434] у точці x = [30.71695902 43.42360827  0.75929856 -0.13435473]\n",
      "15 Ітерація: Значення F = [ 0.04322796  0.00820255 -0.23910614  0.1405673   0.2855851  -0.33811333\n",
      "  0.09967435] у точці x = [30.71695808 43.42360922  0.75929857 -0.13435472]\n",
      "16 Ітерація: Значення F = [ 0.04322797  0.00820254 -0.23910615  0.1405673   0.2855851  -0.33811333\n",
      "  0.09967435] у точці x = [30.71695835 43.42360895  0.75929857 -0.13435472]\n",
      "17 Ітерація: Значення F = [ 0.04322798  0.00820253 -0.23910616  0.14056729  0.28558511 -0.33811331\n",
      "  0.09967434] у точці x = [30.71695943 43.42360787  0.75929855 -0.13435474]\n",
      "18 Ітерація: Значення F = [ 0.04322797  0.00820254 -0.23910615  0.1405673   0.28558511 -0.33811332\n",
      "  0.09967434] у точці x = [30.71695905 43.42360825  0.75929856 -0.13435473]\n",
      "19 Ітерація: Значення F = [ 0.043228    0.00820251 -0.23910619  0.14056729  0.28558513 -0.33811328\n",
      "  0.09967431] у точці x = [30.7169615  43.42360579  0.75929852 -0.13435476]\n",
      "20 Ітерація: Значення F = [ 0.04322787  0.00820261 -0.23910604  0.14056733  0.28558503 -0.33811344\n",
      "  0.09967442] у точці x = [30.71695121 43.42361613  0.75929866 -0.13435465]\n",
      "21 Ітерація: Значення F = [ 0.04322796  0.00820255 -0.23910614  0.1405673   0.2855851  -0.33811333\n",
      "  0.09967435] у точці x = [30.71695804 43.42360926  0.75929857 -0.13435472]\n",
      "\n",
      "\n",
      "Кількість ітерацій: 21\n",
      "\n",
      "\n",
      "\n",
      "Norm: 0.2855850960730315\n"
     ]
    },
    {
     "output_type": "execute_result",
     "data": {
      "text/plain": [
       "0.14234065092635487"
      ]
     },
     "metadata": {},
     "execution_count": 40
    }
   ],
   "source": [
    "print(\"Метод Потра (найменших квадратів)\\n\\n\")\n",
    "approx_values = PotraLeastSquaresMethod(x0, x, F)\n",
    "\n",
    "LeastSquareMethod(approx_values)"
   ]
  }
 ]
}